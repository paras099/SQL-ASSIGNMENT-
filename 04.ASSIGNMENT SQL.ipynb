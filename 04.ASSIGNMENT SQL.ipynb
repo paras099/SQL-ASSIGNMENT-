{
 "cells": [
  {
   "cell_type": "markdown",
   "id": "eb13eea4",
   "metadata": {},
   "source": [
    "## Assignment 04 Solutions\n",
    "\n",
    "### Q-1. Write an SQL query to print the FIRST_NAME from Worker table after replacing ‘a’ with ‘A’.\n",
    "\n",
    "**Ans**: `SELECT REPLACE(FIRST_NAME,'a','A') FROM Wokrer`;\n",
    "\n",
    "### Q-2. Write an SQL query to print all Worker details from the Worker table order by FIRST_NAME Ascending and DEPARTMENT Descending.\n",
    "\n",
    "**Ans**: `SELECT * FROM Worker ORDER BY FIRST_NAME ASC, LAST_NAME DESC;`\n",
    "\n",
    "### Q-3. Write an SQL query to fetch the names of workers who earn the highest salary.\n",
    "\n",
    "**Ans**:` SELECT FIRST_NAME, LAST_NAME FROM Worker WHERE SALARY = (SELECT MAX(SALARY) FROM Worker);`"
   ]
  }
 ],
 "metadata": {
  "kernelspec": {
   "display_name": "Python 3 (ipykernel)",
   "language": "python",
   "name": "python3"
  },
  "language_info": {
   "codemirror_mode": {
    "name": "ipython",
    "version": 3
   },
   "file_extension": ".py",
   "mimetype": "text/x-python",
   "name": "python",
   "nbconvert_exporter": "python",
   "pygments_lexer": "ipython3",
   "version": "3.9.7"
  }
 },
 "nbformat": 4,
 "nbformat_minor": 5
}
